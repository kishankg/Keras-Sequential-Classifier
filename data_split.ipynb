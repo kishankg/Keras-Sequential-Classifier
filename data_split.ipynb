{
 "cells": [
  {
   "cell_type": "code",
   "execution_count": 4,
   "metadata": {},
   "outputs": [],
   "source": [
    "import os\n",
    "import shutil\n",
    "import numpy as np"
   ]
  },
  {
   "cell_type": "code",
   "execution_count": 12,
   "metadata": {},
   "outputs": [],
   "source": [
    "shutil.rmtree(\"Data\",ignore_errors=True)"
   ]
  },
  {
   "cell_type": "code",
   "execution_count": 13,
   "metadata": {},
   "outputs": [
    {
     "data": {
      "text/plain": [
       "['3',\n",
       " '10',\n",
       " '6',\n",
       " '2',\n",
       " '11',\n",
       " '7',\n",
       " '12',\n",
       " '1',\n",
       " '9',\n",
       " '5',\n",
       " '8',\n",
       " '14',\n",
       " '13',\n",
       " '4',\n",
       " '0']"
      ]
     },
     "execution_count": 13,
     "metadata": {},
     "output_type": "execute_result"
    }
   ],
   "source": [
    "dirs = os.listdir('training')\n",
    "dirs"
   ]
  },
  {
   "cell_type": "code",
   "execution_count": 14,
   "metadata": {},
   "outputs": [],
   "source": [
    "for d in dirs:\n",
    "    files = os.listdir('training/'+d)\n",
    "    np.random.shuffle(files)\n",
    "    \n",
    "    split = len(files)//10\n",
    "    os.makedirs('Data/Train/'+d)\n",
    "    os.makedirs('Data/Val/'+d)\n",
    "    \n",
    "    for f in files[split:]:\n",
    "        shutil.copy(src='training/'+d+'/'+f,dst='Data/Train/'+d+\"/\"+f)\n",
    "    for f in files[:split]:\n",
    "        shutil.copy(src='training/'+d+'/'+f,dst='Data/Val/'+d+\"/\"+f)\n"
   ]
  },
  {
   "cell_type": "code",
   "execution_count": null,
   "metadata": {},
   "outputs": [],
   "source": []
  }
 ],
 "metadata": {
  "kernelspec": {
   "display_name": "Python 3",
   "language": "python",
   "name": "python3"
  },
  "language_info": {
   "codemirror_mode": {
    "name": "ipython",
    "version": 3
   },
   "file_extension": ".py",
   "mimetype": "text/x-python",
   "name": "python",
   "nbconvert_exporter": "python",
   "pygments_lexer": "ipython3",
   "version": "3.5.2"
  }
 },
 "nbformat": 4,
 "nbformat_minor": 2
}
